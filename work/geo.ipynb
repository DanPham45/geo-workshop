{
 "cells": [
  {
   "cell_type": "code",
   "execution_count": 124,
   "metadata": {},
   "outputs": [],
   "source": [
    "import folium\n",
    "import pandas as pd\n",
    "import geopandas as gpd"
   ]
  },
  {
   "cell_type": "code",
   "execution_count": 125,
   "metadata": {},
   "outputs": [
    {
     "name": "stderr",
     "output_type": "stream",
     "text": [
      "<string>:2: DtypeWarning: Columns (12) have mixed types. Specify dtype option on import or set low_memory=False.\n"
     ]
    },
    {
     "name": "stdout",
     "output_type": "stream",
     "text": [
      "CPU times: user 15.3 s, sys: 820 ms, total: 16.1 s\n",
      "Wall time: 17.4 s\n"
     ]
    }
   ],
   "source": [
    "%%time\n",
    "\n",
    "# Read files\n",
    "census2016 = pd.read_csv('data/subdiv_2016/98-401-X2016042_English_CSV_data.csv')\n",
    "boundaries = gpd.read_file('data/boundary/')\n",
    "\n",
    "# Set coordinate reference type\n",
    "boundaries = boundaries.to_crs({'init': 'epsg:4326'})"
   ]
  },
  {
   "cell_type": "code",
   "execution_count": 126,
   "metadata": {},
   "outputs": [
    {
     "data": {
      "text/html": [
       "<div>\n",
       "<style scoped>\n",
       "    .dataframe tbody tr th:only-of-type {\n",
       "        vertical-align: middle;\n",
       "    }\n",
       "\n",
       "    .dataframe tbody tr th {\n",
       "        vertical-align: top;\n",
       "    }\n",
       "\n",
       "    .dataframe thead th {\n",
       "        text-align: right;\n",
       "    }\n",
       "</style>\n",
       "<table border=\"1\" class=\"dataframe\">\n",
       "  <thead>\n",
       "    <tr style=\"text-align: right;\">\n",
       "      <th></th>\n",
       "      <th>CENSUS_YEAR</th>\n",
       "      <th>GEO_CODE (POR)</th>\n",
       "      <th>GEO_LEVEL</th>\n",
       "      <th>GEO_NAME</th>\n",
       "      <th>GNR</th>\n",
       "      <th>GNR_LF</th>\n",
       "      <th>DATA_QUALITY_FLAG</th>\n",
       "      <th>CSD_TYPE_NAME</th>\n",
       "      <th>ALT_GEO_CODE</th>\n",
       "      <th>DIM: Profile of Census Subdivisions (2247)</th>\n",
       "      <th>Member ID: Profile of Census Subdivisions (2247)</th>\n",
       "      <th>Notes: Profile of Census Subdivisions (2247)</th>\n",
       "      <th>Dim: Sex (3): Member ID: [1]: Total - Sex</th>\n",
       "      <th>Dim: Sex (3): Member ID: [2]: Male</th>\n",
       "      <th>Dim: Sex (3): Member ID: [3]: Female</th>\n",
       "    </tr>\n",
       "  </thead>\n",
       "  <tbody>\n",
       "    <tr>\n",
       "      <th>0</th>\n",
       "      <td>2016</td>\n",
       "      <td>1</td>\n",
       "      <td>2</td>\n",
       "      <td>St. John's</td>\n",
       "      <td>3.5</td>\n",
       "      <td>5.3</td>\n",
       "      <td>0</td>\n",
       "      <td></td>\n",
       "      <td>1001</td>\n",
       "      <td>Population, 2016</td>\n",
       "      <td>1</td>\n",
       "      <td>1.0</td>\n",
       "      <td>205955</td>\n",
       "      <td>...</td>\n",
       "      <td>...</td>\n",
       "    </tr>\n",
       "    <tr>\n",
       "      <th>1</th>\n",
       "      <td>2016</td>\n",
       "      <td>1</td>\n",
       "      <td>2</td>\n",
       "      <td>St. John's</td>\n",
       "      <td>3.5</td>\n",
       "      <td>5.3</td>\n",
       "      <td>0</td>\n",
       "      <td></td>\n",
       "      <td>1001</td>\n",
       "      <td>Population, 2011</td>\n",
       "      <td>2</td>\n",
       "      <td>2.0</td>\n",
       "      <td>196954</td>\n",
       "      <td>...</td>\n",
       "      <td>...</td>\n",
       "    </tr>\n",
       "    <tr>\n",
       "      <th>2</th>\n",
       "      <td>2016</td>\n",
       "      <td>1</td>\n",
       "      <td>2</td>\n",
       "      <td>St. John's</td>\n",
       "      <td>3.5</td>\n",
       "      <td>5.3</td>\n",
       "      <td>0</td>\n",
       "      <td></td>\n",
       "      <td>1001</td>\n",
       "      <td>Population percentage change, 2011 to 2016</td>\n",
       "      <td>3</td>\n",
       "      <td>NaN</td>\n",
       "      <td>4.6</td>\n",
       "      <td>...</td>\n",
       "      <td>...</td>\n",
       "    </tr>\n",
       "    <tr>\n",
       "      <th>3</th>\n",
       "      <td>2016</td>\n",
       "      <td>1</td>\n",
       "      <td>2</td>\n",
       "      <td>St. John's</td>\n",
       "      <td>3.5</td>\n",
       "      <td>5.3</td>\n",
       "      <td>0</td>\n",
       "      <td></td>\n",
       "      <td>1001</td>\n",
       "      <td>Total private dwellings</td>\n",
       "      <td>4</td>\n",
       "      <td>3.0</td>\n",
       "      <td>92353</td>\n",
       "      <td>...</td>\n",
       "      <td>...</td>\n",
       "    </tr>\n",
       "    <tr>\n",
       "      <th>4</th>\n",
       "      <td>2016</td>\n",
       "      <td>1</td>\n",
       "      <td>2</td>\n",
       "      <td>St. John's</td>\n",
       "      <td>3.5</td>\n",
       "      <td>5.3</td>\n",
       "      <td>0</td>\n",
       "      <td></td>\n",
       "      <td>1001</td>\n",
       "      <td>Private dwellings occupied by usual residents</td>\n",
       "      <td>5</td>\n",
       "      <td>4.0</td>\n",
       "      <td>85015</td>\n",
       "      <td>...</td>\n",
       "      <td>...</td>\n",
       "    </tr>\n",
       "  </tbody>\n",
       "</table>\n",
       "</div>"
      ],
      "text/plain": [
       "   CENSUS_YEAR  GEO_CODE (POR)  GEO_LEVEL    GEO_NAME  GNR  GNR_LF  \\\n",
       "0         2016               1          2  St. John's  3.5     5.3   \n",
       "1         2016               1          2  St. John's  3.5     5.3   \n",
       "2         2016               1          2  St. John's  3.5     5.3   \n",
       "3         2016               1          2  St. John's  3.5     5.3   \n",
       "4         2016               1          2  St. John's  3.5     5.3   \n",
       "\n",
       "   DATA_QUALITY_FLAG CSD_TYPE_NAME  ALT_GEO_CODE  \\\n",
       "0                  0                        1001   \n",
       "1                  0                        1001   \n",
       "2                  0                        1001   \n",
       "3                  0                        1001   \n",
       "4                  0                        1001   \n",
       "\n",
       "      DIM: Profile of Census Subdivisions (2247)  \\\n",
       "0                               Population, 2016   \n",
       "1                               Population, 2011   \n",
       "2     Population percentage change, 2011 to 2016   \n",
       "3                        Total private dwellings   \n",
       "4  Private dwellings occupied by usual residents   \n",
       "\n",
       "   Member ID: Profile of Census Subdivisions (2247)  \\\n",
       "0                                                 1   \n",
       "1                                                 2   \n",
       "2                                                 3   \n",
       "3                                                 4   \n",
       "4                                                 5   \n",
       "\n",
       "   Notes: Profile of Census Subdivisions (2247)  \\\n",
       "0                                           1.0   \n",
       "1                                           2.0   \n",
       "2                                           NaN   \n",
       "3                                           3.0   \n",
       "4                                           4.0   \n",
       "\n",
       "  Dim: Sex (3): Member ID: [1]: Total - Sex  \\\n",
       "0                                    205955   \n",
       "1                                    196954   \n",
       "2                                       4.6   \n",
       "3                                     92353   \n",
       "4                                     85015   \n",
       "\n",
       "  Dim: Sex (3): Member ID: [2]: Male Dim: Sex (3): Member ID: [3]: Female  \n",
       "0                                ...                                  ...  \n",
       "1                                ...                                  ...  \n",
       "2                                ...                                  ...  \n",
       "3                                ...                                  ...  \n",
       "4                                ...                                  ...  "
      ]
     },
     "execution_count": 126,
     "metadata": {},
     "output_type": "execute_result"
    }
   ],
   "source": [
    "census2016.head()"
   ]
  },
  {
   "cell_type": "code",
   "execution_count": 127,
   "metadata": {},
   "outputs": [],
   "source": [
    "# Fix column names\n",
    "census2016 = census2016.rename(columns = {\n",
    "    'Member ID: Profile of Census Subdivisions (2247)': 'propertyid',\n",
    "    'Dim: Sex (3): Member ID: [1]: Total - Sex':'total_value',\n",
    "    'Dim: Sex (3): Member ID: [2]: Male':'male_value',\n",
    "    'Dim: Sex (3): Member ID: [3]: Female':'female_value',\n",
    "    'GEO_CODE (POR)': 'geoid'})\n",
    "\n",
    "boundaries = boundaries.rename(columns = {'CSDUID':'geoid'})\n",
    "\n",
    "# Fix column type. errors='coerce' to set non-numeric value to NaN\n",
    "boundaries['geoid'] = pd.to_numeric(boundaries['geoid'], errors='coerce')\n",
    "census2016['total_value'] = pd.to_numeric(census2016['total_value'], errors='coerce')\n",
    "census2016['male_value'] = pd.to_numeric(census2016['male_value'], errors='coerce')\n",
    "census2016['female_value'] = pd.to_numeric(census2016['female_value'], errors='coerce')"
   ]
  },
  {
   "cell_type": "code",
   "execution_count": 128,
   "metadata": {},
   "outputs": [
    {
     "name": "stdout",
     "output_type": "stream",
     "text": [
      "<class 'pandas.core.frame.DataFrame'>\n",
      "RangeIndex: 2512146 entries, 0 to 2512145\n",
      "Columns: 15 entries, CENSUS_YEAR to female_value\n",
      "dtypes: float64(6), int64(6), object(3)\n",
      "memory usage: 287.5+ MB\n"
     ]
    },
    {
     "data": {
      "text/plain": [
       "CENSUS_YEAR                                       int64\n",
       "geoid                                             int64\n",
       "GEO_LEVEL                                         int64\n",
       "GEO_NAME                                         object\n",
       "GNR                                             float64\n",
       "GNR_LF                                          float64\n",
       "DATA_QUALITY_FLAG                                 int64\n",
       "CSD_TYPE_NAME                                    object\n",
       "ALT_GEO_CODE                                      int64\n",
       "DIM: Profile of Census Subdivisions (2247)       object\n",
       "propertyid                                        int64\n",
       "Notes: Profile of Census Subdivisions (2247)    float64\n",
       "total_value                                     float64\n",
       "male_value                                      float64\n",
       "female_value                                    float64\n",
       "dtype: object"
      ]
     },
     "execution_count": 128,
     "metadata": {},
     "output_type": "execute_result"
    }
   ],
   "source": [
    "# Check dataframe info\n",
    "census2016.info(verbose=False)\n",
    "census2016.dtypes"
   ]
  },
  {
   "cell_type": "code",
   "execution_count": 129,
   "metadata": {},
   "outputs": [
    {
     "name": "stdout",
     "output_type": "stream",
     "text": [
      "<class 'geopandas.geodataframe.GeoDataFrame'>\n",
      "RangeIndex: 5162 entries, 0 to 5161\n",
      "Columns: 19 entries, geoid to geometry\n",
      "dtypes: int64(1), object(18)\n",
      "memory usage: 766.3+ KB\n"
     ]
    },
    {
     "data": {
      "text/plain": [
       "geoid        int64\n",
       "CSDNAME     object\n",
       "CSDTYPE     object\n",
       "PRUID       object\n",
       "PRNAME      object\n",
       "CDUID       object\n",
       "CDNAME      object\n",
       "CDTYPE      object\n",
       "CCSUID      object\n",
       "CCSNAME     object\n",
       "ERUID       object\n",
       "ERNAME      object\n",
       "SACCODE     object\n",
       "SACTYPE     object\n",
       "CMAUID      object\n",
       "CMAPUID     object\n",
       "CMANAME     object\n",
       "CMATYPE     object\n",
       "geometry    object\n",
       "dtype: object"
      ]
     },
     "execution_count": 129,
     "metadata": {},
     "output_type": "execute_result"
    }
   ],
   "source": [
    "boundaries.info(verbose=False)\n",
    "boundaries.dtypes"
   ]
  },
  {
   "cell_type": "code",
   "execution_count": 130,
   "metadata": {},
   "outputs": [
    {
     "name": "stdout",
     "output_type": "stream",
     "text": [
      "CPU times: user 40 ms, sys: 0 ns, total: 40 ms\n",
      "Wall time: 44.5 ms\n"
     ]
    }
   ],
   "source": [
    "%%time\n",
    "\n",
    "# Select property: \"1747.   Mathematics, computer and information sciences\"\n",
    "census_math_cs = census2016[census2016['propertyid']==1747]\n",
    "census_total_major_field_of_study = census2016[census2016['propertyid']==1713]\n",
    "\n",
    "# Caclulate ratio\n",
    "df_attributes = pd.merge(census_math_cs, census_total_major_field_of_study, on='geoid', suffixes=['_math_cs','_total'])\n",
    "df_attributes['ratio'] = df_attributes['total_value_math_cs'] / df_attributes['total_value_total']\n",
    "\n",
    "# Join property with geo infomation. \n",
    "# Note: Call merge from GeoDataframe to make sure result is still a GeoDataframe\n",
    "mathcs_ratio_with_geo = boundaries.merge(df_attributes, on='geoid')"
   ]
  },
  {
   "cell_type": "code",
   "execution_count": 131,
   "metadata": {},
   "outputs": [
    {
     "name": "stderr",
     "output_type": "stream",
     "text": [
      "/opt/conda/lib/python3.6/site-packages/folium/folium.py:432: FutureWarning: The choropleth  method has been deprecated. Instead use the new Choropleth class, which has the same arguments. See the example notebook 'GeoJSON_and_choropleth' for how to do this.\n",
      "  FutureWarning\n"
     ]
    },
    {
     "name": "stdout",
     "output_type": "stream",
     "text": [
      "CPU times: user 2.78 s, sys: 110 ms, total: 2.89 s\n",
      "Wall time: 2.95 s\n"
     ]
    }
   ],
   "source": [
    "%%time\n",
    "m = folium.Map(location=[43.6532, -79.3832])\n",
    "\n",
    "m.choropleth(geo_data = mathcs_ratio_with_geo.to_json(), data = mathcs_ratio_with_geo,\n",
    "             columns = ['geoid', 'ratio'], \n",
    "             key_on = 'feature.properties.{}'.format('geoid'),\n",
    "             fill_color='YlGn',\n",
    "             fill_opacity=0.7,\n",
    "             line_opacity=0.2,\n",
    "             tooltip=folium.features.GeoJsonTooltip(fields=['ratio'],aliases=['ratio'],localize=True))"
   ]
  },
  {
   "cell_type": "code",
   "execution_count": 132,
   "metadata": {},
   "outputs": [],
   "source": [
    "m.save('base.html')"
   ]
  },
  {
   "cell_type": "markdown",
   "metadata": {},
   "source": [
    "## Show detail when hover"
   ]
  },
  {
   "cell_type": "code",
   "execution_count": 133,
   "metadata": {},
   "outputs": [],
   "source": [
    "def add_popup(mapobj, gdf, popup_field_list):\n",
    "    folium.GeoJson(\n",
    "        name='Details',\n",
    "        data = gdf.to_json(),\n",
    "        style_function=lambda x: {'weight':.5,'fillColor':'#00000000'},\n",
    "        tooltip=folium.features.GeoJsonTooltip(fields=popup_field_list,aliases=popup_field_list,localize=True)\n",
    "    ).add_to(mapobj)\n",
    "    return mapobj\n",
    "\n",
    "add_popup(m, mathcs_ratio_with_geo, ['ratio'])\n",
    "\n",
    "m.save('with_popup.html')"
   ]
  },
  {
   "cell_type": "code",
   "execution_count": null,
   "metadata": {},
   "outputs": [],
   "source": []
  }
 ],
 "metadata": {
  "kernelspec": {
   "display_name": "Python 3",
   "language": "python",
   "name": "python3"
  },
  "language_info": {
   "codemirror_mode": {
    "name": "ipython",
    "version": 3
   },
   "file_extension": ".py",
   "mimetype": "text/x-python",
   "name": "python",
   "nbconvert_exporter": "python",
   "pygments_lexer": "ipython3",
   "version": "3.6.7"
  }
 },
 "nbformat": 4,
 "nbformat_minor": 2
}
